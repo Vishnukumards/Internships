{
  "nbformat": 4,
  "nbformat_minor": 0,
  "metadata": {
    "colab": {
      "provenance": []
    },
    "kernelspec": {
      "name": "python3",
      "display_name": "Python 3"
    },
    "language_info": {
      "name": "python"
    }
  },
  "cells": [
    {
      "cell_type": "code",
      "execution_count": null,
      "metadata": {
        "id": "9adLnBXfKGCB"
      },
      "outputs": [],
      "source": [
        "Name : Vishnu Kumar D S\n",
        "email: vishnukumardsvishnu@gmail.com"
      ]
    },
    {
      "cell_type": "code",
      "source": [
        "## Task 2 : Data Overview"
      ],
      "metadata": {
        "id": "w048TbDgTMZc"
      },
      "execution_count": 26,
      "outputs": []
    },
    {
      "cell_type": "code",
      "source": [
        "import numpy as np\n",
        "import pandas as pd\n",
        "import matplotlib.pyplot as plt\n",
        "import seaborn as sns\n",
        "import warnings\n",
        "warnings.filterwarnings('ignore')"
      ],
      "metadata": {
        "id": "mI4k9jtcNzwp"
      },
      "execution_count": 1,
      "outputs": []
    },
    {
      "cell_type": "code",
      "source": [
        "data = pd.read_csv('data.csv')"
      ],
      "metadata": {
        "id": "gZYve4baOJ9P"
      },
      "execution_count": 6,
      "outputs": []
    },
    {
      "cell_type": "code",
      "source": [
        "data.head()"
      ],
      "metadata": {
        "colab": {
          "base_uri": "https://localhost:8080/",
          "height": 446
        },
        "id": "edxzbXI8OXoK",
        "outputId": "73325113-8655-4845-9804-3122d48e6be4"
      },
      "execution_count": 8,
      "outputs": [
        {
          "output_type": "execute_result",
          "data": {
            "text/plain": [
              "   gender  age Investment_Avenues  Mutual_Funds  Equity_Market  Debentures  \\\n",
              "0  Female   34                Yes             1              2           5   \n",
              "1  Female   23                Yes             4              3           2   \n",
              "2    Male   30                Yes             3              6           4   \n",
              "3    Male   22                Yes             2              1           3   \n",
              "4  Female   24                 No             2              1           3   \n",
              "\n",
              "   Government_Bonds  Fixed_Deposits  PPF  Gold  ...           Duration  \\\n",
              "0                 3               7    6     4  ...          1-3 years   \n",
              "1                 1               5    6     7  ...  More than 5 years   \n",
              "2                 2               5    1     7  ...          3-5 years   \n",
              "3                 7               6    4     5  ...   Less than 1 year   \n",
              "4                 6               4    5     7  ...   Less than 1 year   \n",
              "\n",
              "  Invest_Monitor   Expect       Avenue What are your savings objectives?  \\\n",
              "0        Monthly  20%-30%  Mutual Fund                   Retirement Plan   \n",
              "1         Weekly  20%-30%  Mutual Fund                       Health Care   \n",
              "2          Daily  20%-30%       Equity                   Retirement Plan   \n",
              "3          Daily  10%-20%       Equity                   Retirement Plan   \n",
              "4          Daily  20%-30%       Equity                   Retirement Plan   \n",
              "\n",
              "          Reason_Equity         Reason_Mutual     Reason_Bonds  \\\n",
              "0  Capital Appreciation        Better Returns  Safe Investment   \n",
              "1              Dividend        Better Returns  Safe Investment   \n",
              "2  Capital Appreciation          Tax Benefits  Assured Returns   \n",
              "3              Dividend  Fund Diversification   Tax Incentives   \n",
              "4  Capital Appreciation        Better Returns  Safe Investment   \n",
              "\n",
              "             Reason_FD                    Source  \n",
              "0        Fixed Returns  Newspapers and Magazines  \n",
              "1  High Interest Rates     Financial Consultants  \n",
              "2        Fixed Returns                Television  \n",
              "3  High Interest Rates                  Internet  \n",
              "4            Risk Free                  Internet  \n",
              "\n",
              "[5 rows x 24 columns]"
            ],
            "text/html": [
              "\n",
              "  <div id=\"df-c9cb6f1b-ea3f-4b72-b019-065f9ba6c183\" class=\"colab-df-container\">\n",
              "    <div>\n",
              "<style scoped>\n",
              "    .dataframe tbody tr th:only-of-type {\n",
              "        vertical-align: middle;\n",
              "    }\n",
              "\n",
              "    .dataframe tbody tr th {\n",
              "        vertical-align: top;\n",
              "    }\n",
              "\n",
              "    .dataframe thead th {\n",
              "        text-align: right;\n",
              "    }\n",
              "</style>\n",
              "<table border=\"1\" class=\"dataframe\">\n",
              "  <thead>\n",
              "    <tr style=\"text-align: right;\">\n",
              "      <th></th>\n",
              "      <th>gender</th>\n",
              "      <th>age</th>\n",
              "      <th>Investment_Avenues</th>\n",
              "      <th>Mutual_Funds</th>\n",
              "      <th>Equity_Market</th>\n",
              "      <th>Debentures</th>\n",
              "      <th>Government_Bonds</th>\n",
              "      <th>Fixed_Deposits</th>\n",
              "      <th>PPF</th>\n",
              "      <th>Gold</th>\n",
              "      <th>...</th>\n",
              "      <th>Duration</th>\n",
              "      <th>Invest_Monitor</th>\n",
              "      <th>Expect</th>\n",
              "      <th>Avenue</th>\n",
              "      <th>What are your savings objectives?</th>\n",
              "      <th>Reason_Equity</th>\n",
              "      <th>Reason_Mutual</th>\n",
              "      <th>Reason_Bonds</th>\n",
              "      <th>Reason_FD</th>\n",
              "      <th>Source</th>\n",
              "    </tr>\n",
              "  </thead>\n",
              "  <tbody>\n",
              "    <tr>\n",
              "      <th>0</th>\n",
              "      <td>Female</td>\n",
              "      <td>34</td>\n",
              "      <td>Yes</td>\n",
              "      <td>1</td>\n",
              "      <td>2</td>\n",
              "      <td>5</td>\n",
              "      <td>3</td>\n",
              "      <td>7</td>\n",
              "      <td>6</td>\n",
              "      <td>4</td>\n",
              "      <td>...</td>\n",
              "      <td>1-3 years</td>\n",
              "      <td>Monthly</td>\n",
              "      <td>20%-30%</td>\n",
              "      <td>Mutual Fund</td>\n",
              "      <td>Retirement Plan</td>\n",
              "      <td>Capital Appreciation</td>\n",
              "      <td>Better Returns</td>\n",
              "      <td>Safe Investment</td>\n",
              "      <td>Fixed Returns</td>\n",
              "      <td>Newspapers and Magazines</td>\n",
              "    </tr>\n",
              "    <tr>\n",
              "      <th>1</th>\n",
              "      <td>Female</td>\n",
              "      <td>23</td>\n",
              "      <td>Yes</td>\n",
              "      <td>4</td>\n",
              "      <td>3</td>\n",
              "      <td>2</td>\n",
              "      <td>1</td>\n",
              "      <td>5</td>\n",
              "      <td>6</td>\n",
              "      <td>7</td>\n",
              "      <td>...</td>\n",
              "      <td>More than 5 years</td>\n",
              "      <td>Weekly</td>\n",
              "      <td>20%-30%</td>\n",
              "      <td>Mutual Fund</td>\n",
              "      <td>Health Care</td>\n",
              "      <td>Dividend</td>\n",
              "      <td>Better Returns</td>\n",
              "      <td>Safe Investment</td>\n",
              "      <td>High Interest Rates</td>\n",
              "      <td>Financial Consultants</td>\n",
              "    </tr>\n",
              "    <tr>\n",
              "      <th>2</th>\n",
              "      <td>Male</td>\n",
              "      <td>30</td>\n",
              "      <td>Yes</td>\n",
              "      <td>3</td>\n",
              "      <td>6</td>\n",
              "      <td>4</td>\n",
              "      <td>2</td>\n",
              "      <td>5</td>\n",
              "      <td>1</td>\n",
              "      <td>7</td>\n",
              "      <td>...</td>\n",
              "      <td>3-5 years</td>\n",
              "      <td>Daily</td>\n",
              "      <td>20%-30%</td>\n",
              "      <td>Equity</td>\n",
              "      <td>Retirement Plan</td>\n",
              "      <td>Capital Appreciation</td>\n",
              "      <td>Tax Benefits</td>\n",
              "      <td>Assured Returns</td>\n",
              "      <td>Fixed Returns</td>\n",
              "      <td>Television</td>\n",
              "    </tr>\n",
              "    <tr>\n",
              "      <th>3</th>\n",
              "      <td>Male</td>\n",
              "      <td>22</td>\n",
              "      <td>Yes</td>\n",
              "      <td>2</td>\n",
              "      <td>1</td>\n",
              "      <td>3</td>\n",
              "      <td>7</td>\n",
              "      <td>6</td>\n",
              "      <td>4</td>\n",
              "      <td>5</td>\n",
              "      <td>...</td>\n",
              "      <td>Less than 1 year</td>\n",
              "      <td>Daily</td>\n",
              "      <td>10%-20%</td>\n",
              "      <td>Equity</td>\n",
              "      <td>Retirement Plan</td>\n",
              "      <td>Dividend</td>\n",
              "      <td>Fund Diversification</td>\n",
              "      <td>Tax Incentives</td>\n",
              "      <td>High Interest Rates</td>\n",
              "      <td>Internet</td>\n",
              "    </tr>\n",
              "    <tr>\n",
              "      <th>4</th>\n",
              "      <td>Female</td>\n",
              "      <td>24</td>\n",
              "      <td>No</td>\n",
              "      <td>2</td>\n",
              "      <td>1</td>\n",
              "      <td>3</td>\n",
              "      <td>6</td>\n",
              "      <td>4</td>\n",
              "      <td>5</td>\n",
              "      <td>7</td>\n",
              "      <td>...</td>\n",
              "      <td>Less than 1 year</td>\n",
              "      <td>Daily</td>\n",
              "      <td>20%-30%</td>\n",
              "      <td>Equity</td>\n",
              "      <td>Retirement Plan</td>\n",
              "      <td>Capital Appreciation</td>\n",
              "      <td>Better Returns</td>\n",
              "      <td>Safe Investment</td>\n",
              "      <td>Risk Free</td>\n",
              "      <td>Internet</td>\n",
              "    </tr>\n",
              "  </tbody>\n",
              "</table>\n",
              "<p>5 rows × 24 columns</p>\n",
              "</div>\n",
              "    <div class=\"colab-df-buttons\">\n",
              "\n",
              "  <div class=\"colab-df-container\">\n",
              "    <button class=\"colab-df-convert\" onclick=\"convertToInteractive('df-c9cb6f1b-ea3f-4b72-b019-065f9ba6c183')\"\n",
              "            title=\"Convert this dataframe to an interactive table.\"\n",
              "            style=\"display:none;\">\n",
              "\n",
              "  <svg xmlns=\"http://www.w3.org/2000/svg\" height=\"24px\" viewBox=\"0 -960 960 960\">\n",
              "    <path d=\"M120-120v-720h720v720H120Zm60-500h600v-160H180v160Zm220 220h160v-160H400v160Zm0 220h160v-160H400v160ZM180-400h160v-160H180v160Zm440 0h160v-160H620v160ZM180-180h160v-160H180v160Zm440 0h160v-160H620v160Z\"/>\n",
              "  </svg>\n",
              "    </button>\n",
              "\n",
              "  <style>\n",
              "    .colab-df-container {\n",
              "      display:flex;\n",
              "      gap: 12px;\n",
              "    }\n",
              "\n",
              "    .colab-df-convert {\n",
              "      background-color: #E8F0FE;\n",
              "      border: none;\n",
              "      border-radius: 50%;\n",
              "      cursor: pointer;\n",
              "      display: none;\n",
              "      fill: #1967D2;\n",
              "      height: 32px;\n",
              "      padding: 0 0 0 0;\n",
              "      width: 32px;\n",
              "    }\n",
              "\n",
              "    .colab-df-convert:hover {\n",
              "      background-color: #E2EBFA;\n",
              "      box-shadow: 0px 1px 2px rgba(60, 64, 67, 0.3), 0px 1px 3px 1px rgba(60, 64, 67, 0.15);\n",
              "      fill: #174EA6;\n",
              "    }\n",
              "\n",
              "    .colab-df-buttons div {\n",
              "      margin-bottom: 4px;\n",
              "    }\n",
              "\n",
              "    [theme=dark] .colab-df-convert {\n",
              "      background-color: #3B4455;\n",
              "      fill: #D2E3FC;\n",
              "    }\n",
              "\n",
              "    [theme=dark] .colab-df-convert:hover {\n",
              "      background-color: #434B5C;\n",
              "      box-shadow: 0px 1px 3px 1px rgba(0, 0, 0, 0.15);\n",
              "      filter: drop-shadow(0px 1px 2px rgba(0, 0, 0, 0.3));\n",
              "      fill: #FFFFFF;\n",
              "    }\n",
              "  </style>\n",
              "\n",
              "    <script>\n",
              "      const buttonEl =\n",
              "        document.querySelector('#df-c9cb6f1b-ea3f-4b72-b019-065f9ba6c183 button.colab-df-convert');\n",
              "      buttonEl.style.display =\n",
              "        google.colab.kernel.accessAllowed ? 'block' : 'none';\n",
              "\n",
              "      async function convertToInteractive(key) {\n",
              "        const element = document.querySelector('#df-c9cb6f1b-ea3f-4b72-b019-065f9ba6c183');\n",
              "        const dataTable =\n",
              "          await google.colab.kernel.invokeFunction('convertToInteractive',\n",
              "                                                    [key], {});\n",
              "        if (!dataTable) return;\n",
              "\n",
              "        const docLinkHtml = 'Like what you see? Visit the ' +\n",
              "          '<a target=\"_blank\" href=https://colab.research.google.com/notebooks/data_table.ipynb>data table notebook</a>'\n",
              "          + ' to learn more about interactive tables.';\n",
              "        element.innerHTML = '';\n",
              "        dataTable['output_type'] = 'display_data';\n",
              "        await google.colab.output.renderOutput(dataTable, element);\n",
              "        const docLink = document.createElement('div');\n",
              "        docLink.innerHTML = docLinkHtml;\n",
              "        element.appendChild(docLink);\n",
              "      }\n",
              "    </script>\n",
              "  </div>\n",
              "\n",
              "\n",
              "<div id=\"df-179fd712-6c54-4766-bbe3-a677d79c9b97\">\n",
              "  <button class=\"colab-df-quickchart\" onclick=\"quickchart('df-179fd712-6c54-4766-bbe3-a677d79c9b97')\"\n",
              "            title=\"Suggest charts\"\n",
              "            style=\"display:none;\">\n",
              "\n",
              "<svg xmlns=\"http://www.w3.org/2000/svg\" height=\"24px\"viewBox=\"0 0 24 24\"\n",
              "     width=\"24px\">\n",
              "    <g>\n",
              "        <path d=\"M19 3H5c-1.1 0-2 .9-2 2v14c0 1.1.9 2 2 2h14c1.1 0 2-.9 2-2V5c0-1.1-.9-2-2-2zM9 17H7v-7h2v7zm4 0h-2V7h2v10zm4 0h-2v-4h2v4z\"/>\n",
              "    </g>\n",
              "</svg>\n",
              "  </button>\n",
              "\n",
              "<style>\n",
              "  .colab-df-quickchart {\n",
              "      --bg-color: #E8F0FE;\n",
              "      --fill-color: #1967D2;\n",
              "      --hover-bg-color: #E2EBFA;\n",
              "      --hover-fill-color: #174EA6;\n",
              "      --disabled-fill-color: #AAA;\n",
              "      --disabled-bg-color: #DDD;\n",
              "  }\n",
              "\n",
              "  [theme=dark] .colab-df-quickchart {\n",
              "      --bg-color: #3B4455;\n",
              "      --fill-color: #D2E3FC;\n",
              "      --hover-bg-color: #434B5C;\n",
              "      --hover-fill-color: #FFFFFF;\n",
              "      --disabled-bg-color: #3B4455;\n",
              "      --disabled-fill-color: #666;\n",
              "  }\n",
              "\n",
              "  .colab-df-quickchart {\n",
              "    background-color: var(--bg-color);\n",
              "    border: none;\n",
              "    border-radius: 50%;\n",
              "    cursor: pointer;\n",
              "    display: none;\n",
              "    fill: var(--fill-color);\n",
              "    height: 32px;\n",
              "    padding: 0;\n",
              "    width: 32px;\n",
              "  }\n",
              "\n",
              "  .colab-df-quickchart:hover {\n",
              "    background-color: var(--hover-bg-color);\n",
              "    box-shadow: 0 1px 2px rgba(60, 64, 67, 0.3), 0 1px 3px 1px rgba(60, 64, 67, 0.15);\n",
              "    fill: var(--button-hover-fill-color);\n",
              "  }\n",
              "\n",
              "  .colab-df-quickchart-complete:disabled,\n",
              "  .colab-df-quickchart-complete:disabled:hover {\n",
              "    background-color: var(--disabled-bg-color);\n",
              "    fill: var(--disabled-fill-color);\n",
              "    box-shadow: none;\n",
              "  }\n",
              "\n",
              "  .colab-df-spinner {\n",
              "    border: 2px solid var(--fill-color);\n",
              "    border-color: transparent;\n",
              "    border-bottom-color: var(--fill-color);\n",
              "    animation:\n",
              "      spin 1s steps(1) infinite;\n",
              "  }\n",
              "\n",
              "  @keyframes spin {\n",
              "    0% {\n",
              "      border-color: transparent;\n",
              "      border-bottom-color: var(--fill-color);\n",
              "      border-left-color: var(--fill-color);\n",
              "    }\n",
              "    20% {\n",
              "      border-color: transparent;\n",
              "      border-left-color: var(--fill-color);\n",
              "      border-top-color: var(--fill-color);\n",
              "    }\n",
              "    30% {\n",
              "      border-color: transparent;\n",
              "      border-left-color: var(--fill-color);\n",
              "      border-top-color: var(--fill-color);\n",
              "      border-right-color: var(--fill-color);\n",
              "    }\n",
              "    40% {\n",
              "      border-color: transparent;\n",
              "      border-right-color: var(--fill-color);\n",
              "      border-top-color: var(--fill-color);\n",
              "    }\n",
              "    60% {\n",
              "      border-color: transparent;\n",
              "      border-right-color: var(--fill-color);\n",
              "    }\n",
              "    80% {\n",
              "      border-color: transparent;\n",
              "      border-right-color: var(--fill-color);\n",
              "      border-bottom-color: var(--fill-color);\n",
              "    }\n",
              "    90% {\n",
              "      border-color: transparent;\n",
              "      border-bottom-color: var(--fill-color);\n",
              "    }\n",
              "  }\n",
              "</style>\n",
              "\n",
              "  <script>\n",
              "    async function quickchart(key) {\n",
              "      const quickchartButtonEl =\n",
              "        document.querySelector('#' + key + ' button');\n",
              "      quickchartButtonEl.disabled = true;  // To prevent multiple clicks.\n",
              "      quickchartButtonEl.classList.add('colab-df-spinner');\n",
              "      try {\n",
              "        const charts = await google.colab.kernel.invokeFunction(\n",
              "            'suggestCharts', [key], {});\n",
              "      } catch (error) {\n",
              "        console.error('Error during call to suggestCharts:', error);\n",
              "      }\n",
              "      quickchartButtonEl.classList.remove('colab-df-spinner');\n",
              "      quickchartButtonEl.classList.add('colab-df-quickchart-complete');\n",
              "    }\n",
              "    (() => {\n",
              "      let quickchartButtonEl =\n",
              "        document.querySelector('#df-179fd712-6c54-4766-bbe3-a677d79c9b97 button');\n",
              "      quickchartButtonEl.style.display =\n",
              "        google.colab.kernel.accessAllowed ? 'block' : 'none';\n",
              "    })();\n",
              "  </script>\n",
              "</div>\n",
              "\n",
              "    </div>\n",
              "  </div>\n"
            ],
            "application/vnd.google.colaboratory.intrinsic+json": {
              "type": "dataframe",
              "variable_name": "data"
            }
          },
          "metadata": {},
          "execution_count": 8
        }
      ]
    },
    {
      "cell_type": "code",
      "source": [
        "data.info()"
      ],
      "metadata": {
        "colab": {
          "base_uri": "https://localhost:8080/"
        },
        "id": "mf9lu1ptOsQL",
        "outputId": "ab9a14ad-73cd-4d99-d47a-90cb386a5300"
      },
      "execution_count": 9,
      "outputs": [
        {
          "output_type": "stream",
          "name": "stdout",
          "text": [
            "<class 'pandas.core.frame.DataFrame'>\n",
            "RangeIndex: 40 entries, 0 to 39\n",
            "Data columns (total 24 columns):\n",
            " #   Column                             Non-Null Count  Dtype \n",
            "---  ------                             --------------  ----- \n",
            " 0   gender                             40 non-null     object\n",
            " 1   age                                40 non-null     int64 \n",
            " 2   Investment_Avenues                 40 non-null     object\n",
            " 3   Mutual_Funds                       40 non-null     int64 \n",
            " 4   Equity_Market                      40 non-null     int64 \n",
            " 5   Debentures                         40 non-null     int64 \n",
            " 6   Government_Bonds                   40 non-null     int64 \n",
            " 7   Fixed_Deposits                     40 non-null     int64 \n",
            " 8   PPF                                40 non-null     int64 \n",
            " 9   Gold                               40 non-null     int64 \n",
            " 10  Stock_Marktet                      40 non-null     object\n",
            " 11  Factor                             40 non-null     object\n",
            " 12  Objective                          40 non-null     object\n",
            " 13  Purpose                            40 non-null     object\n",
            " 14  Duration                           40 non-null     object\n",
            " 15  Invest_Monitor                     40 non-null     object\n",
            " 16  Expect                             40 non-null     object\n",
            " 17  Avenue                             40 non-null     object\n",
            " 18  What are your savings objectives?  40 non-null     object\n",
            " 19  Reason_Equity                      40 non-null     object\n",
            " 20  Reason_Mutual                      40 non-null     object\n",
            " 21  Reason_Bonds                       40 non-null     object\n",
            " 22  Reason_FD                          40 non-null     object\n",
            " 23  Source                             40 non-null     object\n",
            "dtypes: int64(8), object(16)\n",
            "memory usage: 7.6+ KB\n"
          ]
        }
      ]
    },
    {
      "cell_type": "code",
      "source": [
        "## Task 2 : Gender Distribution"
      ],
      "metadata": {
        "id": "0C9MnB7rS_Se"
      },
      "execution_count": 25,
      "outputs": []
    },
    {
      "cell_type": "code",
      "source": [
        "gender = data['gender']"
      ],
      "metadata": {
        "id": "73g-BJmBPGi5"
      },
      "execution_count": 11,
      "outputs": []
    },
    {
      "cell_type": "code",
      "source": [
        "gender.head()"
      ],
      "metadata": {
        "colab": {
          "base_uri": "https://localhost:8080/",
          "height": 241
        },
        "id": "D-WBLd7XQvrW",
        "outputId": "cbf185e5-2326-4537-fc6f-56d6fc028e7f"
      },
      "execution_count": 16,
      "outputs": [
        {
          "output_type": "execute_result",
          "data": {
            "text/plain": [
              "0    Female\n",
              "1    Female\n",
              "2      Male\n",
              "3      Male\n",
              "4    Female\n",
              "Name: gender, dtype: object"
            ],
            "text/html": [
              "<div>\n",
              "<style scoped>\n",
              "    .dataframe tbody tr th:only-of-type {\n",
              "        vertical-align: middle;\n",
              "    }\n",
              "\n",
              "    .dataframe tbody tr th {\n",
              "        vertical-align: top;\n",
              "    }\n",
              "\n",
              "    .dataframe thead th {\n",
              "        text-align: right;\n",
              "    }\n",
              "</style>\n",
              "<table border=\"1\" class=\"dataframe\">\n",
              "  <thead>\n",
              "    <tr style=\"text-align: right;\">\n",
              "      <th></th>\n",
              "      <th>gender</th>\n",
              "    </tr>\n",
              "  </thead>\n",
              "  <tbody>\n",
              "    <tr>\n",
              "      <th>0</th>\n",
              "      <td>Female</td>\n",
              "    </tr>\n",
              "    <tr>\n",
              "      <th>1</th>\n",
              "      <td>Female</td>\n",
              "    </tr>\n",
              "    <tr>\n",
              "      <th>2</th>\n",
              "      <td>Male</td>\n",
              "    </tr>\n",
              "    <tr>\n",
              "      <th>3</th>\n",
              "      <td>Male</td>\n",
              "    </tr>\n",
              "    <tr>\n",
              "      <th>4</th>\n",
              "      <td>Female</td>\n",
              "    </tr>\n",
              "  </tbody>\n",
              "</table>\n",
              "</div><br><label><b>dtype:</b> object</label>"
            ]
          },
          "metadata": {},
          "execution_count": 16
        }
      ]
    },
    {
      "cell_type": "code",
      "source": [
        "gender_counts = gender.value_counts()"
      ],
      "metadata": {
        "id": "3q8P7dJfSEts"
      },
      "execution_count": 18,
      "outputs": []
    },
    {
      "cell_type": "code",
      "source": [
        "plt.figure(figsize=(8, 5))\n",
        "gender_counts.plot(kind='bar', color=['blue', 'red'], alpha=0.7, edgecolor='black')\n",
        "plt.title(\"Gender Distribution (Bar Chart)\", fontsize=14)\n",
        "plt.xlabel(\"Gender\", fontsize=12)\n",
        "plt.ylabel(\"Count\", fontsize=12)\n",
        "plt.xticks(rotation=0)\n",
        "plt.grid(axis='y', linestyle='--', alpha=0.7)\n",
        "plt.tight_layout()\n",
        "plt.show()"
      ],
      "metadata": {
        "colab": {
          "base_uri": "https://localhost:8080/",
          "height": 507
        },
        "id": "dff33tsyQwrQ",
        "outputId": "2c95a704-ebcc-4f55-9541-79a71db374d8"
      },
      "execution_count": 20,
      "outputs": [
        {
          "output_type": "display_data",
          "data": {
            "text/plain": [
              "<Figure size 800x500 with 1 Axes>"
            ],
            "image/png": "[encoded data removed]"
          },
          "metadata": {}
        }
      ]
    },
    {
      "cell_type": "code",
      "source": [
        "plt.figure(figsize=(6, 6))\n",
        "gender_counts.plot(kind='pie', autopct='%1.1f%%', startangle=90, colors=['blue', 'red'], explode=(0.05, 0))\n",
        "plt.title(\"Gender Distribution (Pie Chart)\", fontsize=14)\n",
        "plt.ylabel('')  # Hides the 'gender' label\n",
        "plt.tight_layout()\n",
        "plt.show()"
      ],
      "metadata": {
        "colab": {
          "base_uri": "https://localhost:8080/",
          "height": 607
        },
        "id": "IgNG_HbTQ89_",
        "outputId": "c419ed2f-eecd-4e6a-f1ce-cff15862a0b6"
      },
      "execution_count": 23,
      "outputs": [
        {
          "output_type": "display_data",
          "data": {
            "text/plain": [
              "<Figure size 600x600 with 1 Axes>"
            ],
            "image/png": "[encoded data removed]"
          },
          "metadata": {}
        }
      ]
    },
    {
      "cell_type": "code",
      "source": [
        "## Task 2 : Descriptive Statistics"
      ],
      "metadata": {
        "id": "AYjMetqqRjMN"
      },
      "execution_count": null,
      "outputs": []
    },
    {
      "cell_type": "code",
      "source": [
        "data.describe()"
      ],
      "metadata": {
        "colab": {
          "base_uri": "https://localhost:8080/",
          "height": 300
        },
        "id": "PdhdxRVDOzX9",
        "outputId": "699c9f0b-7189-4d12-c51d-bc24be65032d"
      },
      "execution_count": 10,
      "outputs": [
        {
          "output_type": "execute_result",
          "data": {
            "text/plain": [
              "             age  Mutual_Funds  Equity_Market  Debentures  Government_Bonds  \\\n",
              "count  40.000000     40.000000      40.000000   40.000000         40.000000   \n",
              "mean   27.800000      2.550000       3.475000    5.750000          4.650000   \n",
              "std     3.560467      1.197219       1.131994    1.675617          1.369072   \n",
              "min    21.000000      1.000000       1.000000    1.000000          1.000000   \n",
              "25%    25.750000      2.000000       3.000000    5.000000          4.000000   \n",
              "50%    27.000000      2.000000       4.000000    6.500000          5.000000   \n",
              "75%    30.000000      3.000000       4.000000    7.000000          5.000000   \n",
              "max    35.000000      7.000000       6.000000    7.000000          7.000000   \n",
              "\n",
              "       Fixed_Deposits        PPF       Gold  \n",
              "count       40.000000  40.000000  40.000000  \n",
              "mean         3.575000   2.025000   5.975000  \n",
              "std          1.795828   1.609069   1.143263  \n",
              "min          1.000000   1.000000   2.000000  \n",
              "25%          2.750000   1.000000   6.000000  \n",
              "50%          3.500000   1.000000   6.000000  \n",
              "75%          5.000000   2.250000   7.000000  \n",
              "max          7.000000   6.000000   7.000000  "
            ],
            "text/html": [
              "\n",
              "  <div id=\"df-59bcbefa-61fd-40dd-87c8-04d1926890a6\" class=\"colab-df-container\">\n",
              "    <div>\n",
              "<style scoped>\n",
              "    .dataframe tbody tr th:only-of-type {\n",
              "        vertical-align: middle;\n",
              "    }\n",
              "\n",
              "    .dataframe tbody tr th {\n",
              "        vertical-align: top;\n",
              "    }\n",
              "\n",
              "    .dataframe thead th {\n",
              "        text-align: right;\n",
              "    }\n",
              "</style>\n",
              "<table border=\"1\" class=\"dataframe\">\n",
              "  <thead>\n",
              "    <tr style=\"text-align: right;\">\n",
              "      <th></th>\n",
              "      <th>age</th>\n",
              "      <th>Mutual_Funds</th>\n",
              "      <th>Equity_Market</th>\n",
              "      <th>Debentures</th>\n",
              "      <th>Government_Bonds</th>\n",
              "      <th>Fixed_Deposits</th>\n",
              "      <th>PPF</th>\n",
              "      <th>Gold</th>\n",
              "    </tr>\n",
              "  </thead>\n",
              "  <tbody>\n",
              "    <tr>\n",
              "      <th>count</th>\n",
              "      <td>40.000000</td>\n",
              "      <td>40.000000</td>\n",
              "      <td>40.000000</td>\n",
              "      <td>40.000000</td>\n",
              "      <td>40.000000</td>\n",
              "      <td>40.000000</td>\n",
              "      <td>40.000000</td>\n",
              "      <td>40.000000</td>\n",
              "    </tr>\n",
              "    <tr>\n",
              "      <th>mean</th>\n",
              "      <td>27.800000</td>\n",
              "      <td>2.550000</td>\n",
              "      <td>3.475000</td>\n",
              "      <td>5.750000</td>\n",
              "      <td>4.650000</td>\n",
              "      <td>3.575000</td>\n",
              "      <td>2.025000</td>\n",
              "      <td>5.975000</td>\n",
              "    </tr>\n",
              "    <tr>\n",
              "      <th>std</th>\n",
              "      <td>3.560467</td>\n",
              "      <td>1.197219</td>\n",
              "      <td>1.131994</td>\n",
              "      <td>1.675617</td>\n",
              "      <td>1.369072</td>\n",
              "      <td>1.795828</td>\n",
              "      <td>1.609069</td>\n",
              "      <td>1.143263</td>\n",
              "    </tr>\n",
              "    <tr>\n",
              "      <th>min</th>\n",
              "      <td>21.000000</td>\n",
              "      <td>1.000000</td>\n",
              "      <td>1.000000</td>\n",
              "      <td>1.000000</td>\n",
              "      <td>1.000000</td>\n",
              "      <td>1.000000</td>\n",
              "      <td>1.000000</td>\n",
              "      <td>2.000000</td>\n",
              "    </tr>\n",
              "    <tr>\n",
              "      <th>25%</th>\n",
              "      <td>25.750000</td>\n",
              "      <td>2.000000</td>\n",
              "      <td>3.000000</td>\n",
              "      <td>5.000000</td>\n",
              "      <td>4.000000</td>\n",
              "      <td>2.750000</td>\n",
              "      <td>1.000000</td>\n",
              "      <td>6.000000</td>\n",
              "    </tr>\n",
              "    <tr>\n",
              "      <th>50%</th>\n",
              "      <td>27.000000</td>\n",
              "      <td>2.000000</td>\n",
              "      <td>4.000000</td>\n",
              "      <td>6.500000</td>\n",
              "      <td>5.000000</td>\n",
              "      <td>3.500000</td>\n",
              "      <td>1.000000</td>\n",
              "      <td>6.000000</td>\n",
              "    </tr>\n",
              "    <tr>\n",
              "      <th>75%</th>\n",
              "      <td>30.000000</td>\n",
              "      <td>3.000000</td>\n",
              "      <td>4.000000</td>\n",
              "      <td>7.000000</td>\n",
              "      <td>5.000000</td>\n",
              "      <td>5.000000</td>\n",
              "      <td>2.250000</td>\n",
              "      <td>7.000000</td>\n",
              "    </tr>\n",
              "    <tr>\n",
              "      <th>max</th>\n",
              "      <td>35.000000</td>\n",
              "      <td>7.000000</td>\n",
              "      <td>6.000000</td>\n",
              "      <td>7.000000</td>\n",
              "      <td>7.000000</td>\n",
              "      <td>7.000000</td>\n",
              "      <td>6.000000</td>\n",
              "      <td>7.000000</td>\n",
              "    </tr>\n",
              "  </tbody>\n",
              "</table>\n",
              "</div>\n",
              "    <div class=\"colab-df-buttons\">\n",
              "\n",
              "  <div class=\"colab-df-container\">\n",
              "    <button class=\"colab-df-convert\" onclick=\"convertToInteractive('df-59bcbefa-61fd-40dd-87c8-04d1926890a6')\"\n",
              "            title=\"Convert this dataframe to an interactive table.\"\n",
              "            style=\"display:none;\">\n",
              "\n",
              "  <svg xmlns=\"http://www.w3.org/2000/svg\" height=\"24px\" viewBox=\"0 -960 960 960\">\n",
              "    <path d=\"M120-120v-720h720v720H120Zm60-500h600v-160H180v160Zm220 220h160v-160H400v160Zm0 220h160v-160H400v160ZM180-400h160v-160H180v160Zm440 0h160v-160H620v160ZM180-180h160v-160H180v160Zm440 0h160v-160H620v160Z\"/>\n",
              "  </svg>\n",
              "    </button>\n",
              "\n",
              "  <style>\n",
              "    .colab-df-container {\n",
              "      display:flex;\n",
              "      gap: 12px;\n",
              "    }\n",
              "\n",
              "    .colab-df-convert {\n",
              "      background-color: #E8F0FE;\n",
              "      border: none;\n",
              "      border-radius: 50%;\n",
              "      cursor: pointer;\n",
              "      display: none;\n",
              "      fill: #1967D2;\n",
              "      height: 32px;\n",
              "      padding: 0 0 0 0;\n",
              "      width: 32px;\n",
              "    }\n",
              "\n",
              "    .colab-df-convert:hover {\n",
              "      background-color: #E2EBFA;\n",
              "      box-shadow: 0px 1px 2px rgba(60, 64, 67, 0.3), 0px 1px 3px 1px rgba(60, 64, 67, 0.15);\n",
              "      fill: #174EA6;\n",
              "    }\n",
              "\n",
              "    .colab-df-buttons div {\n",
              "      margin-bottom: 4px;\n",
              "    }\n",
              "\n",
              "    [theme=dark] .colab-df-convert {\n",
              "      background-color: #3B4455;\n",
              "      fill: #D2E3FC;\n",
              "    }\n",
              "\n",
              "    [theme=dark] .colab-df-convert:hover {\n",
              "      background-color: #434B5C;\n",
              "      box-shadow: 0px 1px 3px 1px rgba(0, 0, 0, 0.15);\n",
              "      filter: drop-shadow(0px 1px 2px rgba(0, 0, 0, 0.3));\n",
              "      fill: #FFFFFF;\n",
              "    }\n",
              "  </style>\n",
              "\n",
              "    <script>\n",
              "      const buttonEl =\n",
              "        document.querySelector('#df-59bcbefa-61fd-40dd-87c8-04d1926890a6 button.colab-df-convert');\n",
              "      buttonEl.style.display =\n",
              "        google.colab.kernel.accessAllowed ? 'block' : 'none';\n",
              "\n",
              "      async function convertToInteractive(key) {\n",
              "        const element = document.querySelector('#df-59bcbefa-61fd-40dd-87c8-04d1926890a6');\n",
              "        const dataTable =\n",
              "          await google.colab.kernel.invokeFunction('convertToInteractive',\n",
              "                                                    [key], {});\n",
              "        if (!dataTable) return;\n",
              "\n",
              "        const docLinkHtml = 'Like what you see? Visit the ' +\n",
              "          '<a target=\"_blank\" href=https://colab.research.google.com/notebooks/data_table.ipynb>data table notebook</a>'\n",
              "          + ' to learn more about interactive tables.';\n",
              "        element.innerHTML = '';\n",
              "        dataTable['output_type'] = 'display_data';\n",
              "        await google.colab.output.renderOutput(dataTable, element);\n",
              "        const docLink = document.createElement('div');\n",
              "        docLink.innerHTML = docLinkHtml;\n",
              "        element.appendChild(docLink);\n",
              "      }\n",
              "    </script>\n",
              "  </div>\n",
              "\n",
              "\n",
              "<div id=\"df-c6fd5d3f-3395-4a2f-8915-1db423264d14\">\n",
              "  <button class=\"colab-df-quickchart\" onclick=\"quickchart('df-c6fd5d3f-3395-4a2f-8915-1db423264d14')\"\n",
              "            title=\"Suggest charts\"\n",
              "            style=\"display:none;\">\n",
              "\n",
              "<svg xmlns=\"http://www.w3.org/2000/svg\" height=\"24px\"viewBox=\"0 0 24 24\"\n",
              "     width=\"24px\">\n",
              "    <g>\n",
              "        <path d=\"M19 3H5c-1.1 0-2 .9-2 2v14c0 1.1.9 2 2 2h14c1.1 0 2-.9 2-2V5c0-1.1-.9-2-2-2zM9 17H7v-7h2v7zm4 0h-2V7h2v10zm4 0h-2v-4h2v4z\"/>\n",
              "    </g>\n",
              "</svg>\n",
              "  </button>\n",
              "\n",
              "<style>\n",
              "  .colab-df-quickchart {\n",
              "      --bg-color: #E8F0FE;\n",
              "      --fill-color: #1967D2;\n",
              "      --hover-bg-color: #E2EBFA;\n",
              "      --hover-fill-color: #174EA6;\n",
              "      --disabled-fill-color: #AAA;\n",
              "      --disabled-bg-color: #DDD;\n",
              "  }\n",
              "\n",
              "  [theme=dark] .colab-df-quickchart {\n",
              "      --bg-color: #3B4455;\n",
              "      --fill-color: #D2E3FC;\n",
              "      --hover-bg-color: #434B5C;\n",
              "      --hover-fill-color: #FFFFFF;\n",
              "      --disabled-bg-color: #3B4455;\n",
              "      --disabled-fill-color: #666;\n",
              "  }\n",
              "\n",
              "  .colab-df-quickchart {\n",
              "    background-color: var(--bg-color);\n",
              "    border: none;\n",
              "    border-radius: 50%;\n",
              "    cursor: pointer;\n",
              "    display: none;\n",
              "    fill: var(--fill-color);\n",
              "    height: 32px;\n",
              "    padding: 0;\n",
              "    width: 32px;\n",
              "  }\n",
              "\n",
              "  .colab-df-quickchart:hover {\n",
              "    background-color: var(--hover-bg-color);\n",
              "    box-shadow: 0 1px 2px rgba(60, 64, 67, 0.3), 0 1px 3px 1px rgba(60, 64, 67, 0.15);\n",
              "    fill: var(--button-hover-fill-color);\n",
              "  }\n",
              "\n",
              "  .colab-df-quickchart-complete:disabled,\n",
              "  .colab-df-quickchart-complete:disabled:hover {\n",
              "    background-color: var(--disabled-bg-color);\n",
              "    fill: var(--disabled-fill-color);\n",
              "    box-shadow: none;\n",
              "  }\n",
              "\n",
              "  .colab-df-spinner {\n",
              "    border: 2px solid var(--fill-color);\n",
              "    border-color: transparent;\n",
              "    border-bottom-color: var(--fill-color);\n",
              "    animation:\n",
              "      spin 1s steps(1) infinite;\n",
              "  }\n",
              "\n",
              "  @keyframes spin {\n",
              "    0% {\n",
              "      border-color: transparent;\n",
              "      border-bottom-color: var(--fill-color);\n",
              "      border-left-color: var(--fill-color);\n",
              "    }\n",
              "    20% {\n",
              "      border-color: transparent;\n",
              "      border-left-color: var(--fill-color);\n",
              "      border-top-color: var(--fill-color);\n",
              "    }\n",
              "    30% {\n",
              "      border-color: transparent;\n",
              "      border-left-color: var(--fill-color);\n",
              "      border-top-color: var(--fill-color);\n",
              "      border-right-color: var(--fill-color);\n",
              "    }\n",
              "    40% {\n",
              "      border-color: transparent;\n",
              "      border-right-color: var(--fill-color);\n",
              "      border-top-color: var(--fill-color);\n",
              "    }\n",
              "    60% {\n",
              "      border-color: transparent;\n",
              "      border-right-color: var(--fill-color);\n",
              "    }\n",
              "    80% {\n",
              "      border-color: transparent;\n",
              "      border-right-color: var(--fill-color);\n",
              "      border-bottom-color: var(--fill-color);\n",
              "    }\n",
              "    90% {\n",
              "      border-color: transparent;\n",
              "      border-bottom-color: var(--fill-color);\n",
              "    }\n",
              "  }\n",
              "</style>\n",
              "\n",
              "  <script>\n",
              "    async function quickchart(key) {\n",
              "      const quickchartButtonEl =\n",
              "        document.querySelector('#' + key + ' button');\n",
              "      quickchartButtonEl.disabled = true;  // To prevent multiple clicks.\n",
              "      quickchartButtonEl.classList.add('colab-df-spinner');\n",
              "      try {\n",
              "        const charts = await google.colab.kernel.invokeFunction(\n",
              "            'suggestCharts', [key], {});\n",
              "      } catch (error) {\n",
              "        console.error('Error during call to suggestCharts:', error);\n",
              "      }\n",
              "      quickchartButtonEl.classList.remove('colab-df-spinner');\n",
              "      quickchartButtonEl.classList.add('colab-df-quickchart-complete');\n",
              "    }\n",
              "    (() => {\n",
              "      let quickchartButtonEl =\n",
              "        document.querySelector('#df-c6fd5d3f-3395-4a2f-8915-1db423264d14 button');\n",
              "      quickchartButtonEl.style.display =\n",
              "        google.colab.kernel.accessAllowed ? 'block' : 'none';\n",
              "    })();\n",
              "  </script>\n",
              "</div>\n",
              "\n",
              "    </div>\n",
              "  </div>\n"
            ],
            "application/vnd.google.colaboratory.intrinsic+json": {
              "type": "dataframe",
              "summary": "{\n  \"name\": \"data\",\n  \"rows\": 8,\n  \"fields\": [\n    {\n      \"column\": \"age\",\n      \"properties\": {\n        \"dtype\": \"number\",\n        \"std\": 10.858034525486168,\n        \"min\": 3.560466693696639,\n        \"max\": 40.0,\n        \"num_unique_values\": 8,\n        \"samples\": [\n          27.8,\n          27.0,\n          40.0\n        ],\n        \"semantic_type\": \"\",\n        \"description\": \"\"\n      }\n    },\n    {\n      \"column\": \"Mutual_Funds\",\n      \"properties\": {\n        \"dtype\": \"number\",\n        \"std\": 13.328440943057165,\n        \"min\": 1.0,\n        \"max\": 40.0,\n        \"num_unique_values\": 7,\n        \"samples\": [\n          40.0,\n          2.55,\n          3.0\n        ],\n        \"semantic_type\": \"\",\n        \"description\": \"\"\n      }\n    },\n    {\n      \"column\": \"Equity_Market\",\n      \"properties\": {\n        \"dtype\": \"number\",\n        \"std\": 13.100722848897934,\n        \"min\": 1.0,\n        \"max\": 40.0,\n        \"num_unique_values\": 7,\n        \"samples\": [\n          40.0,\n          3.475,\n          4.0\n        ],\n        \"semantic_type\": \"\",\n        \"description\": \"\"\n      }\n    },\n    {\n      \"column\": \"Debentures\",\n      \"properties\": {\n        \"dtype\": \"number\",\n        \"std\": 12.643437520427508,\n        \"min\": 1.0,\n        \"max\": 40.0,\n        \"num_unique_values\": 7,\n        \"samples\": [\n          40.0,\n          5.75,\n          6.5\n        ],\n        \"semantic_type\": \"\",\n        \"description\": \"\"\n      }\n    },\n    {\n      \"column\": \"Government_Bonds\",\n      \"properties\": {\n        \"dtype\": \"number\",\n        \"std\": 12.879510773386334,\n        \"min\": 1.0,\n        \"max\": 40.0,\n        \"num_unique_values\": 7,\n        \"samples\": [\n          40.0,\n          4.65,\n          5.0\n        ],\n        \"semantic_type\": \"\",\n        \"description\": \"\"\n      }\n    },\n    {\n      \"column\": \"Fixed_Deposits\",\n      \"properties\": {\n        \"dtype\": \"number\",\n        \"std\": 13.032030268880106,\n        \"min\": 1.0,\n        \"max\": 40.0,\n        \"num_unique_values\": 8,\n        \"samples\": [\n          3.575,\n          3.5,\n          40.0\n        ],\n        \"semantic_type\": \"\",\n        \"description\": \"\"\n      }\n    },\n    {\n      \"column\": \"PPF\",\n      \"properties\": {\n        \"dtype\": \"number\",\n        \"std\": 13.49190022025064,\n        \"min\": 1.0,\n        \"max\": 40.0,\n        \"num_unique_values\": 6,\n        \"samples\": [\n          40.0,\n          2.025,\n          6.0\n        ],\n        \"semantic_type\": \"\",\n        \"description\": \"\"\n      }\n    },\n    {\n      \"column\": \"Gold\",\n      \"properties\": {\n        \"dtype\": \"number\",\n        \"std\": 12.56789270092528,\n        \"min\": 1.1432634351063986,\n        \"max\": 40.0,\n        \"num_unique_values\": 6,\n        \"samples\": [\n          40.0,\n          5.975,\n          7.0\n        ],\n        \"semantic_type\": \"\",\n        \"description\": \"\"\n      }\n    }\n  ]\n}"
            }
          },
          "metadata": {},
          "execution_count": 10
        }
      ]
    },
    {
      "cell_type": "code",
      "source": [
        "# Identify numerical columns\n",
        "numerical_columns = data.select_dtypes(include=['number']).columns\n",
        "print(\"Numerical Columns:\", numerical_columns)"
      ],
      "metadata": {
        "colab": {
          "base_uri": "https://localhost:8080/"
        },
        "id": "x5i9VLw_UYdK",
        "outputId": "7f4d710f-a76b-4081-ea06-2a1014187d03"
      },
      "execution_count": 27,
      "outputs": [
        {
          "output_type": "stream",
          "name": "stdout",
          "text": [
            "Numerical Columns: Index(['age', 'Mutual_Funds', 'Equity_Market', 'Debentures',\n",
            "       'Government_Bonds', 'Fixed_Deposits', 'PPF', 'Gold'],\n",
            "      dtype='object')\n"
          ]
        }
      ]
    },
    {
      "cell_type": "code",
      "source": [
        "## Task 3: Descriptive Statistics"
      ],
      "metadata": {
        "id": "dCt5bHzaVnNN"
      },
      "execution_count": 33,
      "outputs": []
    },
    {
      "cell_type": "code",
      "source": [
        "from os import stat\n",
        "# Calculate mean, median, and standard deviation for each numerical column\n",
        "statistics = {}\n",
        "for column in numerical_columns:\n",
        "    mean = data[column].mean()\n",
        "    median = data[column].median()\n",
        "    std_dev = data[column].std()\n",
        "\n",
        "    statistics[column] = {\n",
        "        'Mean': mean,\n",
        "        'Median': median,\n",
        "        'Standard Deviation': std_dev\n",
        "    }"
      ],
      "metadata": {
        "id": "pnEUUIIuUhrO"
      },
      "execution_count": 29,
      "outputs": []
    },
    {
      "cell_type": "code",
      "source": [
        "# Convert the statistics dictionary to a DataFrame for better visualization\n",
        "statistics_df = pd.DataFrame(statistics).T\n",
        "print(statistics_df)"
      ],
      "metadata": {
        "colab": {
          "base_uri": "https://localhost:8080/"
        },
        "id": "mSbfayukUuUT",
        "outputId": "f6918455-8847-4e91-dfa8-87e7d5d15f64"
      },
      "execution_count": 30,
      "outputs": [
        {
          "output_type": "stream",
          "name": "stdout",
          "text": [
            "                    Mean  Median  Standard Deviation\n",
            "age               27.800    27.0            3.560467\n",
            "Mutual_Funds       2.550     2.0            1.197219\n",
            "Equity_Market      3.475     4.0            1.131994\n",
            "Debentures         5.750     6.5            1.675617\n",
            "Government_Bonds   4.650     5.0            1.369072\n",
            "Fixed_Deposits     3.575     3.5            1.795828\n",
            "PPF                2.025     1.0            1.609069\n",
            "Gold               5.975     6.0            1.143263\n"
          ]
        }
      ]
    },
    {
      "cell_type": "code",
      "source": [
        "## Task 4: Most Preferred Investment Avenue"
      ],
      "metadata": {
        "id": "8E1g7-EqV1nq"
      },
      "execution_count": 35,
      "outputs": []
    },
    {
      "cell_type": "code",
      "source": [
        "investment_column = 'Investment_Avenue'"
      ],
      "metadata": {
        "id": "3jM1tiR0U6vQ"
      },
      "execution_count": 31,
      "outputs": []
    },
    {
      "cell_type": "code",
      "source": [
        "# Count the frequency of each investment avenue\n",
        "frequency = data['Investment_Avenues'].value_counts()\n",
        "\n",
        "most_preferred_avenue = frequency.idxmax()\n",
        "highest_frequency = frequency.max()\n",
        "\n",
        "print(f\"The most preferred investment avenue is: {most_preferred_avenue} with a frequency of {highest_frequency}.\")\n"
      ],
      "metadata": {
        "colab": {
          "base_uri": "https://localhost:8080/"
        },
        "id": "1Pxp0bBaWuTM",
        "outputId": "7bcbf691-1d49-4192-9405-2c114240a9fe"
      },
      "execution_count": 41,
      "outputs": [
        {
          "output_type": "stream",
          "name": "stdout",
          "text": [
            "The most preferred investment avenue is: Yes with a frequency of 37.\n"
          ]
        }
      ]
    },
    {
      "cell_type": "code",
      "source": [
        "## Task 5: Reasons for Investment"
      ],
      "metadata": {
        "id": "1MbrO6bKWE26"
      },
      "execution_count": 36,
      "outputs": []
    },
    {
      "cell_type": "code",
      "source": [
        "# Perform frequency analysis on the 'investment_avenue' column\n",
        "investment_frequency = data['Investment_Avenues'].value_counts()\n",
        "\n",
        "# Display the frequency count for each investment avenue\n",
        "print(investment_frequency)\n",
        "\n",
        "\n",
        "# Get the most preferred investment avenue\n",
        "most_preferred_avenue = investment_frequency.idxmax()\n",
        "highest_frequency = investment_frequency.max()\n",
        "\n",
        "# Display the most preferred investment avenue and its frequency\n",
        "print(f\"The most preferred investment avenue is: {most_preferred_avenue} with {highest_frequency} occurrences.\")\n"
      ],
      "metadata": {
        "colab": {
          "base_uri": "https://localhost:8080/"
        },
        "id": "bQdB19jBWEDM",
        "outputId": "cfa5d466-351b-4290-baf1-b820ab0cfa68"
      },
      "execution_count": 43,
      "outputs": [
        {
          "output_type": "stream",
          "name": "stdout",
          "text": [
            "Investment_Avenues\n",
            "Yes    37\n",
            "No      3\n",
            "Name: count, dtype: int64\n",
            "The most preferred investment avenue is: Yes with 37 occurrences.\n"
          ]
        }
      ]
    },
    {
      "cell_type": "code",
      "source": [
        "## Task 6 :  Savings Objectives"
      ],
      "metadata": {
        "id": "rhBn1iUNmrk-"
      },
      "execution_count": null,
      "outputs": []
    },
    {
      "cell_type": "code",
      "source": [
        "summary = investment_frequency.describe()\n",
        "print(summary)"
      ],
      "metadata": {
        "colab": {
          "base_uri": "https://localhost:8080/"
        },
        "id": "UaKlHT3bWNFs",
        "outputId": "5a1cfac3-d480-4bda-a23e-799315ce34f4"
      },
      "execution_count": 47,
      "outputs": [
        {
          "output_type": "stream",
          "name": "stdout",
          "text": [
            "count     2.000000\n",
            "mean     20.000000\n",
            "std      24.041631\n",
            "min       3.000000\n",
            "25%      11.500000\n",
            "50%      20.000000\n",
            "75%      28.500000\n",
            "max      37.000000\n",
            "Name: count, dtype: float64\n"
          ]
        }
      ]
    },
    {
      "cell_type": "code",
      "source": [
        "investment_avenues = data['Mutual_Funds']"
      ],
      "metadata": {
        "id": "BSh09AbNiU1W"
      },
      "execution_count": 51,
      "outputs": []
    },
    {
      "cell_type": "code",
      "source": [
        "summary = investment_avenues.describe()\n",
        "print(summary)"
      ],
      "metadata": {
        "colab": {
          "base_uri": "https://localhost:8080/"
        },
        "id": "_o109281jVM5",
        "outputId": "cb7df7f8-1b9a-464c-9b43-049300ab37fd"
      },
      "execution_count": 52,
      "outputs": [
        {
          "output_type": "stream",
          "name": "stdout",
          "text": [
            "count    40.000000\n",
            "mean      2.550000\n",
            "std       1.197219\n",
            "min       1.000000\n",
            "25%       2.000000\n",
            "50%       2.000000\n",
            "75%       3.000000\n",
            "max       7.000000\n",
            "Name: Mutual_Funds, dtype: float64\n"
          ]
        }
      ]
    },
    {
      "cell_type": "code",
      "source": [
        "frequency = investment_avenues.value_counts()\n",
        "print(frequency)"
      ],
      "metadata": {
        "colab": {
          "base_uri": "https://localhost:8080/"
        },
        "id": "KrH5ITgWjkMq",
        "outputId": "27a6f4cb-4bc0-42f7-b424-ac1ed45f1998"
      },
      "execution_count": 53,
      "outputs": [
        {
          "output_type": "stream",
          "name": "stdout",
          "text": [
            "Mutual_Funds\n",
            "2    21\n",
            "3     9\n",
            "1     4\n",
            "4     3\n",
            "5     2\n",
            "7     1\n",
            "Name: count, dtype: int64\n"
          ]
        }
      ]
    },
    {
      "cell_type": "code",
      "source": [
        "investment_avenues = data['Equity_Market']\n",
        "summary = investment_avenues.describe()\n",
        "print(summary)\n",
        "\n",
        "frequency = investment_avenues.value_counts()\n",
        "print(frequency)\n",
        "\n",
        "investment_avenues = data['Debentures']\n",
        "summary = investment_avenues.describe()\n",
        "print(summary)"
      ],
      "metadata": {
        "colab": {
          "base_uri": "https://localhost:8080/"
        },
        "id": "IUSbw4NkjoYG",
        "outputId": "bf027fc5-323e-4610-d297-12435aa05482"
      },
      "execution_count": 55,
      "outputs": [
        {
          "output_type": "stream",
          "name": "stdout",
          "text": [
            "count    40.000000\n",
            "mean      3.475000\n",
            "std       1.131994\n",
            "min       1.000000\n",
            "25%       3.000000\n",
            "50%       4.000000\n",
            "75%       4.000000\n",
            "max       6.000000\n",
            "Name: Equity_Market, dtype: float64\n",
            "Equity_Market\n",
            "4    16\n",
            "3    12\n",
            "2     5\n",
            "5     3\n",
            "6     2\n",
            "1     2\n",
            "Name: count, dtype: int64\n",
            "count    40.000000\n",
            "mean      5.750000\n",
            "std       1.675617\n",
            "min       1.000000\n",
            "25%       5.000000\n",
            "50%       6.500000\n",
            "75%       7.000000\n",
            "max       7.000000\n",
            "Name: Debentures, dtype: float64\n"
          ]
        }
      ]
    },
    {
      "cell_type": "code",
      "source": [
        "investment_avenues = data['Mutual_Funds']\n",
        "summary = investment_avenues.describe()\n",
        "print(summary)"
      ],
      "metadata": {
        "colab": {
          "base_uri": "https://localhost:8080/"
        },
        "id": "9P6YgLDfjwcx",
        "outputId": "2be7fea5-e3c6-4ca7-a205-7e81da3e9538"
      },
      "execution_count": 56,
      "outputs": [
        {
          "output_type": "stream",
          "name": "stdout",
          "text": [
            "count    40.000000\n",
            "mean      2.550000\n",
            "std       1.197219\n",
            "min       1.000000\n",
            "25%       2.000000\n",
            "50%       2.000000\n",
            "75%       3.000000\n",
            "max       7.000000\n",
            "Name: Mutual_Funds, dtype: float64\n"
          ]
        }
      ]
    },
    {
      "cell_type": "code",
      "source": [
        "frequency = investment_avenues.value_counts()\n",
        "print(frequency)"
      ],
      "metadata": {
        "colab": {
          "base_uri": "https://localhost:8080/"
        },
        "id": "xRh8o8ktkC-Y",
        "outputId": "743f89aa-5ab5-45c7-a501-44c85fbff378"
      },
      "execution_count": 57,
      "outputs": [
        {
          "output_type": "stream",
          "name": "stdout",
          "text": [
            "Mutual_Funds\n",
            "2    21\n",
            "3     9\n",
            "1     4\n",
            "4     3\n",
            "5     2\n",
            "7     1\n",
            "Name: count, dtype: int64\n"
          ]
        }
      ]
    },
    {
      "cell_type": "code",
      "source": [
        "# Identify the most common sources\n",
        "common_sources = data['Source']\n",
        "print(common_sources)"
      ],
      "metadata": {
        "colab": {
          "base_uri": "https://localhost:8080/"
        },
        "id": "KPnhOSwukKn3",
        "outputId": "b19b8a5e-7720-4ec5-a930-742e34a5737f"
      },
      "execution_count": 59,
      "outputs": [
        {
          "output_type": "stream",
          "name": "stdout",
          "text": [
            "0     Newspapers and Magazines\n",
            "1        Financial Consultants\n",
            "2                   Television\n",
            "3                     Internet\n",
            "4                     Internet\n",
            "5                     Internet\n",
            "6        Financial Consultants\n",
            "7     Newspapers and Magazines\n",
            "8                   Television\n",
            "9     Newspapers and Magazines\n",
            "10       Financial Consultants\n",
            "11       Financial Consultants\n",
            "12                    Internet\n",
            "13    Newspapers and Magazines\n",
            "14       Financial Consultants\n",
            "15    Newspapers and Magazines\n",
            "16                  Television\n",
            "17       Financial Consultants\n",
            "18    Newspapers and Magazines\n",
            "19    Newspapers and Magazines\n",
            "20       Financial Consultants\n",
            "21    Newspapers and Magazines\n",
            "22       Financial Consultants\n",
            "23       Financial Consultants\n",
            "24    Newspapers and Magazines\n",
            "25       Financial Consultants\n",
            "26       Financial Consultants\n",
            "27                  Television\n",
            "28                  Television\n",
            "29    Newspapers and Magazines\n",
            "30                  Television\n",
            "31       Financial Consultants\n",
            "32    Newspapers and Magazines\n",
            "33    Newspapers and Magazines\n",
            "34       Financial Consultants\n",
            "35       Financial Consultants\n",
            "36    Newspapers and Magazines\n",
            "37       Financial Consultants\n",
            "38    Newspapers and Magazines\n",
            "39       Financial Consultants\n",
            "Name: Source, dtype: object\n"
          ]
        }
      ]
    },
    {
      "cell_type": "code",
      "source": [
        "## Task 7 : Common Information Sources\n"
      ],
      "metadata": {
        "id": "iaptyoMSm5UT"
      },
      "execution_count": 62,
      "outputs": []
    },
    {
      "cell_type": "code",
      "source": [
        "\n",
        "source_data = [\n",
        "    'Newspapers and Magazines', 'Financial Consultants', 'Television', 'Internet', 'Internet', 'Internet',\n",
        "    'Financial Consultants', 'Newspapers and Magazines', 'Television', 'Newspapers and Magazines', 'Financial Consultants',\n",
        "    'Financial Consultants', 'Internet', 'Newspapers and Magazines', 'Financial Consultants', 'Newspapers and Magazines',\n",
        "    'Television', 'Financial Consultants', 'Newspapers and Magazines', 'Newspapers and Magazines', 'Financial Consultants',\n",
        "    'Newspapers and Magazines', 'Financial Consultants', 'Financial Consultants', 'Newspapers and Magazines',\n",
        "    'Financial Consultants', 'Financial Consultants', 'Television', 'Television', 'Newspapers and Magazines',\n",
        "    'Television', 'Financial Consultants', 'Newspapers and Magazines', 'Newspapers and Magazines', 'Financial Consultants',\n",
        "    'Financial Consultants', 'Newspapers and Magazines', 'Financial Consultants', 'Newspapers and Magazines',\n",
        "    'Financial Consultants'\n",
        "]\n",
        "\n",
        "# Creating a DataFrame (replace with actual dataset if reading from a file)\n",
        "df = pd.DataFrame(source_data, columns=['Source'])\n",
        "\n",
        "# Step 1: Analyze Information Sources\n",
        "sources_count = df['Source'].value_counts()\n",
        "\n",
        "# Step 2: Display the most common sources\n",
        "print(\"Common Information Sources and Their Occurrences:\")\n",
        "for source, count in sources_count.items():\n",
        "    print(f\"- {source}: {count} participants\")\n"
      ],
      "metadata": {
        "colab": {
          "base_uri": "https://localhost:8080/"
        },
        "id": "s8oepUG8lOTF",
        "outputId": "171f32ed-e104-45a8-f138-2886bae40d80"
      },
      "execution_count": 60,
      "outputs": [
        {
          "output_type": "stream",
          "name": "stdout",
          "text": [
            "Common Information Sources and Their Occurrences:\n",
            "- Financial Consultants: 16 participants\n",
            "- Newspapers and Magazines: 14 participants\n",
            "- Television: 6 participants\n",
            "- Internet: 4 participants\n"
          ]
        }
      ]
    },
    {
      "cell_type": "code",
      "source": [
        "import matplotlib.pyplot as plt\n",
        "\n",
        "# Plotting the distribution of sources\n",
        "sources_count.plot(kind='bar', figsize=(10, 6), color='skyblue')\n",
        "plt.title('Common Information Sources for Investment')\n",
        "plt.xlabel('Information Sources')\n",
        "plt.ylabel('Number of Participants')\n",
        "plt.xticks(rotation=45)\n",
        "plt.tight_layout()\n",
        "plt.show()\n"
      ],
      "metadata": {
        "colab": {
          "base_uri": "https://localhost:8080/",
          "height": 607
        },
        "id": "1CQ_DgBdmd7-",
        "outputId": "d69f0e6b-6dd9-4c9c-af70-86c3e12c6085"
      },
      "execution_count": 61,
      "outputs": [
        {
          "output_type": "display_data",
          "data": {
            "text/plain": [
              "<Figure size 1000x600 with 1 Axes>"
            ],
            "image/png": "[encoded data removed]"
          },
          "metadata": {}
        }
      ]
    },
    {
      "cell_type": "code",
      "source": [
        "## Task 8 : Investment Duration"
      ],
      "metadata": {
        "id": "0JQgokC-mhfz"
      },
      "execution_count": 63,
      "outputs": []
    },
    {
      "cell_type": "code",
      "source": [
        "\n",
        "duration_data = [\n",
        "    '1-3 years', 'More than 5 years', '3-5 years', 'Less than 1 year', '1-3 years',\n",
        "    'More than 5 years', 'Less than 1 year', '3-5 years', '1-3 years', 'More than 5 years',\n",
        "    'Less than 1 year', '3-5 years', '1-3 years', '1-3 years', 'More than 5 years'\n",
        "]\n",
        "\n",
        "# Creating a sample DataFrame (replace this with actual dataset)\n",
        "df =  data[['Duration']].copy()\n",
        "# Step 1: Standardize the Duration Data\n",
        "# Define a function to convert duration strings to numerical values\n",
        "def convert_duration(duration):\n",
        "    if duration == 'Less than 1 year':\n",
        "        return 0.5\n",
        "    elif duration == '1-3 years':\n",
        "        return 2\n",
        "    elif duration == '3-5 years':\n",
        "        return 4\n",
        "    elif duration == 'More than 5 years':\n",
        "        return 6\n",
        "    else:\n",
        "        return None  # Handle any unexpected values\n",
        "\n",
        "# Apply the function to the 'Duration' column\n",
        "df['Duration (Years)'] = df['Duration'].apply(convert_duration)\n",
        "\n",
        "# Step 2: Calculate Average Duration\n",
        "average_duration = df['Duration (Years)'].mean()\n",
        "\n",
        "# Display the average duration\n",
        "print(f\"Average Investment Duration: {average_duration} years\")\n"
      ],
      "metadata": {
        "colab": {
          "base_uri": "https://localhost:8080/"
        },
        "id": "HAcxjB0KnCgo",
        "outputId": "afded0a7-d347-40b8-d087-9e5f98aa6ff1"
      },
      "execution_count": 65,
      "outputs": [
        {
          "output_type": "stream",
          "name": "stdout",
          "text": [
            "Average Investment Duration: 2.975 years\n"
          ]
        }
      ]
    },
    {
      "cell_type": "code",
      "source": [],
      "metadata": {
        "id": "NM2W6R6jndsI"
      },
      "execution_count": null,
      "outputs": []
    }
  ]
}